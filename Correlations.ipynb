{
 "cells": [
  {
   "cell_type": "code",
   "execution_count": null,
   "id": "482c5897-6b10-4e7a-95c3-cf0cdf79b2ac",
   "metadata": {},
   "outputs": [],
   "source": [
    "# Начальные данные\n",
    "x1_coords = [11,11,11,11,7,7,7,7,12.4,5.6,9,9,9,9,9,9,9,9,9,9,11]\n",
    "x2_coords = [30,30,20,20,30,30,20,20,25,25,33.4,16.6,25,25,25,25,25,25,25,25,30]\n",
    "u_list = [0.001886773,0.001888856,0.001839001,0.001840592,0.001861987,0.001858253,0.001799142,0.001809188,0.001869552,0.001828953,0.001876969,0.001792872,0.001852198,0.001849231,0.001860251,0.00184314,0.001878281,0.00185562,0.001851013,0.001839322,0.001886816]\n",
    "u_values = [round(item * 10**6,2) for item in u_list]"
   ]
  },
  {
   "cell_type": "code",
   "execution_count": 39,
   "id": "6ac11157-4e2d-4caa-a8aa-ed67177e36a2",
   "metadata": {},
   "outputs": [
    {
     "name": "stdout",
     "output_type": "stream",
     "text": [
      "Коэффициент корреляции между X1 и X2: 0.06\n",
      "Коэффициент корреляции между Y и X1: 0.5\n",
      "Коэффициент корреляции между Y и X2: 0.83\n"
     ]
    }
   ],
   "source": [
    "import numpy as np\n",
    "# Вычисление коэффициента корреляции  Пирсона\n",
    "correlation = np.corrcoef(x1_coords, x2_coords)\n",
    "print(\"Коэффициент корреляции между X1 и X2:\", round(correlation[0][1],2))\n",
    "\n",
    "correlation = np.corrcoef(u_values, x1_coords)\n",
    "print(\"Коэффициент корреляции между Y и X1:\", round(correlation[0][1],2))\n",
    "\n",
    "correlation = np.corrcoef(u_values, x2_coords)\n",
    "print(\"Коэффициент корреляции между Y и X2:\", round(correlation[0][1],2))"
   ]
  },
  {
   "cell_type": "code",
   "execution_count": null,
   "id": "235953eb-fd67-428f-b494-1355e6564c5a",
   "metadata": {},
   "outputs": [],
   "source": []
  }
 ],
 "metadata": {
  "kernelspec": {
   "display_name": "Python 3 (ipykernel)",
   "language": "python",
   "name": "python3"
  },
  "language_info": {
   "codemirror_mode": {
    "name": "ipython",
    "version": 3
   },
   "file_extension": ".py",
   "mimetype": "text/x-python",
   "name": "python",
   "nbconvert_exporter": "python",
   "pygments_lexer": "ipython3",
   "version": "3.11.9"
  }
 },
 "nbformat": 4,
 "nbformat_minor": 5
}
