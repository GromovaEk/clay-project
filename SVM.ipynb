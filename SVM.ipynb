{
 "cells": [
  {
   "cell_type": "code",
   "execution_count": 13,
   "id": "2f8aeec0-83d4-4bec-bc81-384eb561574e",
   "metadata": {},
   "outputs": [],
   "source": [
    "import numpy as np\n",
    "from sklearn import svm\n",
    "from sklearn.model_selection import train_test_split\n",
    "from sklearn.metrics import mean_squared_error\n",
    "from math import sqrt"
   ]
  },
  {
   "cell_type": "code",
   "execution_count": 14,
   "id": "69c71f18-9b13-42cb-8aff-cc38dfa32068",
   "metadata": {},
   "outputs": [],
   "source": [
    "x1_coords = [11,11,11,11,7,7,7,7,12.4,5.6,9,9,9,9,9,9,9,9,9,9,11]\n",
    "x2_coords = [30,30,20,20,30,30,20,20,25,25,33.4,16.6,25,25,25,25,25,25,25,25,30]\n",
    "u_list = [0.001886773,0.001888856,0.001839001,0.001840592,0.001861987,0.001858253,0.001799142,0.001809188,0.001869552,0.001828953,0.001876969,0.001792872,0.001852198,0.001849231,0.001860251,0.00184314,0.001878281,0.00185562,0.001851013,0.001839322,0.001886816]\n",
    "u_values = [item * 10**6 for item in u_list]\n",
    "n = len(u_values)\n",
    "\n",
    "\n",
    "Y = np.array(u_values).reshape(-1, 1)\n",
    "Y = np.ravel(Y)\n",
    "X = np.column_stack([x1_coords, x2_coords])"
   ]
  },
  {
   "cell_type": "code",
   "execution_count": 15,
   "id": "91e694a9-19d0-4cfa-8823-cfdc674f99c6",
   "metadata": {},
   "outputs": [
    {
     "name": "stdout",
     "output_type": "stream",
     "text": [
      "rmse  9.31\n"
     ]
    }
   ],
   "source": [
    "# Обучаем SVM модель на основе линейной ядерной функции \n",
    "model = svm.SVR(kernel='linear')\n",
    "\n",
    "model.fit(X, Y)\n",
    "\n",
    "# Делаем предсказания \n",
    "y_pred = model.predict(X)\n",
    "for i in range(len(y_pred)):\n",
    "    y_pred[i] = round(y_pred[i],2)\n",
    "\n",
    "# вычисляем rmse\n",
    "e_hat = []\n",
    "for i in range(0, n):\n",
    "    e_hat.append((u_values[i] - y_pred[i])**2)\n",
    "\n",
    "sum_e = sum(e_hat)\n",
    "rmse = round(sqrt((sum_e/n)),2)\n",
    "print('rmse ', rmse)"
   ]
  },
  {
   "cell_type": "code",
   "execution_count": 16,
   "id": "99e51cb8-2c6e-477f-86c1-13da5fa67af7",
   "metadata": {},
   "outputs": [
    {
     "name": "stdout",
     "output_type": "stream",
     "text": [
      "rmse  12.09\n"
     ]
    }
   ],
   "source": [
    "# Обучаем SVM модель на основе полиномиальной ядерной функции\n",
    "model = svm.SVR(kernel='poly')\n",
    "\n",
    "model.fit(X, Y)\n",
    "\n",
    "# Делаем предсказания \n",
    "y_pred = model.predict(X)\n",
    "for i in range(len(y_pred)):\n",
    "    y_pred[i] = round(y_pred[i],2)\n",
    "\n",
    "# вычисляем rmse\n",
    "e_hat = []\n",
    "for i in range(0, n):\n",
    "    e_hat.append((u_values[i] - y_pred[i])**2)\n",
    "\n",
    "sum_e = sum(e_hat)\n",
    "rmse = round(sqrt((sum_e/n)),2)\n",
    "print('rmse ', rmse)"
   ]
  },
  {
   "cell_type": "code",
   "execution_count": 17,
   "id": "a6a2ef13-2042-44c0-a116-b054f588fd3e",
   "metadata": {},
   "outputs": [
    {
     "name": "stdout",
     "output_type": "stream",
     "text": [
      "rmse  24.83\n"
     ]
    }
   ],
   "source": [
    "# Обучаем SVM модель на основе радиальной ядерной функции\n",
    "model = svm.SVR(kernel='rbf')\n",
    "\n",
    "model.fit(X, Y)\n",
    "\n",
    "# Делаем предсказания \n",
    "y_pred = model.predict(X)\n",
    "for i in range(len(y_pred)):\n",
    "    y_pred[i] = round(y_pred[i],2)\n",
    "\n",
    "# вычисляем rmse\n",
    "e_hat = []\n",
    "for i in range(0, n):\n",
    "    e_hat.append((u_values[i] - y_pred[i])**2)\n",
    "\n",
    "sum_e = sum(e_hat)\n",
    "rmse = round(sqrt((sum_e/n)),2)\n",
    "print('rmse ', rmse)"
   ]
  },
  {
   "cell_type": "code",
   "execution_count": 18,
   "id": "fb48d10e-6819-42a3-9826-bfbb45ccc3ca",
   "metadata": {},
   "outputs": [
    {
     "name": "stdout",
     "output_type": "stream",
     "text": [
      "rmse  26.59\n"
     ]
    }
   ],
   "source": [
    "# Обучаем SVM модель на основе линейной сигмоидной функции\n",
    "model = svm.SVR(kernel='sigmoid')\n",
    "\n",
    "model.fit(X, Y)\n",
    "\n",
    "# Делаем предсказания \n",
    "y_pred = model.predict(X)\n",
    "for i in range(len(y_pred)):\n",
    "    y_pred[i] = round(y_pred[i],2)\n",
    "\n",
    "# вычисляем rmse\n",
    "e_hat = []\n",
    "for i in range(0, n):\n",
    "    e_hat.append((u_values[i] - y_pred[i])**2)\n",
    "\n",
    "sum_e = sum(e_hat)\n",
    "rmse = round(sqrt((sum_e/n)),2)\n",
    "print('rmse ', rmse)"
   ]
  }
 ],
 "metadata": {
  "kernelspec": {
   "display_name": "Python 3 (ipykernel)",
   "language": "python",
   "name": "python3"
  },
  "language_info": {
   "codemirror_mode": {
    "name": "ipython",
    "version": 3
   },
   "file_extension": ".py",
   "mimetype": "text/x-python",
   "name": "python",
   "nbconvert_exporter": "python",
   "pygments_lexer": "ipython3",
   "version": "3.11.9"
  }
 },
 "nbformat": 4,
 "nbformat_minor": 5
}
